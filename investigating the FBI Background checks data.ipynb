{
 "cells": [
  {
   "cell_type": "markdown",
   "metadata": {},
   "source": [
    "# Project: Investigating The FBI Gun Data\n",
    "\n",
    "## Table of Contents\n",
    "<ul>\n",
    "<li><a href=\"#intro\">Introduction</a></li>\n",
    "<li><a href=\"#wrangling\">Data Wrangling</a></li> \n",
    "<li><a href=\"#eda\">Exploratory Data Analysis</a></li>\n",
    "<li><a href=\"#conclusions\">Conclusions</a></li>\n",
    "</ul>"
   ]
  },
  {
   "cell_type": "markdown",
   "metadata": {},
   "source": [
    "<a id='intro'></a>\n",
    "## Introduction\n",
    "\n",
    ">The data in this report comes from the FBI's National Instant Criminal Background Check System.\n",
    "These statistics represent the number of firearm background checks initiated through the NICS. They do not represent the number of firearms sold. Based on varying state laws and purchase scenarios, a one-to-one correlation cannot be made between a firearm background check and a firearm sale.\n",
    ">\n",
    "### Questions for Analysis\n",
    ">1. Did the number of background checks changed over the years?\n",
    ">\n",
    ">2. Which state have the highest background checks ratio?\n",
    ">\n",
    ">3. Is there a relation between background checks and higher education percentage?\n",
    ">\n",
    ">4. Is there a relation between background checks and per capit income?\n",
    ">\n",
    ">5. Is there a relation between background checks and poverty percentage?"
   ]
  },
  {
   "cell_type": "code",
   "execution_count": 39,
   "metadata": {},
   "outputs": [],
   "source": [
    "#import statements for all of the packages\n",
    "import numpy as np\n",
    "import pandas as pd\n",
    "import matplotlib.pyplot as plt\n",
    "%matplotlib inline\n",
    "\n",
    "#reading the files\n",
    "gun_df = pd.read_excel('gun_data.xlsx')\n",
    "census_df = pd.read_csv('U.S. Census Data.csv')"
   ]
  },
  {
   "cell_type": "code",
   "execution_count": 40,
   "metadata": {},
   "outputs": [
    {
     "data": {
      "text/html": [
       "<div>\n",
       "<style scoped>\n",
       "    .dataframe tbody tr th:only-of-type {\n",
       "        vertical-align: middle;\n",
       "    }\n",
       "\n",
       "    .dataframe tbody tr th {\n",
       "        vertical-align: top;\n",
       "    }\n",
       "\n",
       "    .dataframe thead th {\n",
       "        text-align: right;\n",
       "    }\n",
       "</style>\n",
       "<table border=\"1\" class=\"dataframe\">\n",
       "  <thead>\n",
       "    <tr style=\"text-align: right;\">\n",
       "      <th></th>\n",
       "      <th>month</th>\n",
       "      <th>state</th>\n",
       "      <th>permit</th>\n",
       "      <th>permit_recheck</th>\n",
       "      <th>handgun</th>\n",
       "      <th>long_gun</th>\n",
       "      <th>other</th>\n",
       "      <th>multiple</th>\n",
       "      <th>admin</th>\n",
       "      <th>prepawn_handgun</th>\n",
       "      <th>...</th>\n",
       "      <th>returned_other</th>\n",
       "      <th>rentals_handgun</th>\n",
       "      <th>rentals_long_gun</th>\n",
       "      <th>private_sale_handgun</th>\n",
       "      <th>private_sale_long_gun</th>\n",
       "      <th>private_sale_other</th>\n",
       "      <th>return_to_seller_handgun</th>\n",
       "      <th>return_to_seller_long_gun</th>\n",
       "      <th>return_to_seller_other</th>\n",
       "      <th>totals</th>\n",
       "    </tr>\n",
       "  </thead>\n",
       "  <tbody>\n",
       "    <tr>\n",
       "      <th>0</th>\n",
       "      <td>2017-09</td>\n",
       "      <td>Alabama</td>\n",
       "      <td>16717.0</td>\n",
       "      <td>0.0</td>\n",
       "      <td>5734.0</td>\n",
       "      <td>6320.0</td>\n",
       "      <td>221.0</td>\n",
       "      <td>317</td>\n",
       "      <td>0.0</td>\n",
       "      <td>15.0</td>\n",
       "      <td>...</td>\n",
       "      <td>0.0</td>\n",
       "      <td>0.0</td>\n",
       "      <td>0.0</td>\n",
       "      <td>9.0</td>\n",
       "      <td>16.0</td>\n",
       "      <td>3.0</td>\n",
       "      <td>0.0</td>\n",
       "      <td>0.0</td>\n",
       "      <td>3.0</td>\n",
       "      <td>32019</td>\n",
       "    </tr>\n",
       "    <tr>\n",
       "      <th>1</th>\n",
       "      <td>2017-09</td>\n",
       "      <td>Alaska</td>\n",
       "      <td>209.0</td>\n",
       "      <td>2.0</td>\n",
       "      <td>2320.0</td>\n",
       "      <td>2930.0</td>\n",
       "      <td>219.0</td>\n",
       "      <td>160</td>\n",
       "      <td>0.0</td>\n",
       "      <td>5.0</td>\n",
       "      <td>...</td>\n",
       "      <td>0.0</td>\n",
       "      <td>0.0</td>\n",
       "      <td>0.0</td>\n",
       "      <td>17.0</td>\n",
       "      <td>24.0</td>\n",
       "      <td>1.0</td>\n",
       "      <td>0.0</td>\n",
       "      <td>0.0</td>\n",
       "      <td>0.0</td>\n",
       "      <td>6303</td>\n",
       "    </tr>\n",
       "    <tr>\n",
       "      <th>2</th>\n",
       "      <td>2017-09</td>\n",
       "      <td>Arizona</td>\n",
       "      <td>5069.0</td>\n",
       "      <td>382.0</td>\n",
       "      <td>11063.0</td>\n",
       "      <td>7946.0</td>\n",
       "      <td>920.0</td>\n",
       "      <td>631</td>\n",
       "      <td>0.0</td>\n",
       "      <td>13.0</td>\n",
       "      <td>...</td>\n",
       "      <td>0.0</td>\n",
       "      <td>0.0</td>\n",
       "      <td>0.0</td>\n",
       "      <td>38.0</td>\n",
       "      <td>12.0</td>\n",
       "      <td>2.0</td>\n",
       "      <td>0.0</td>\n",
       "      <td>0.0</td>\n",
       "      <td>0.0</td>\n",
       "      <td>28394</td>\n",
       "    </tr>\n",
       "  </tbody>\n",
       "</table>\n",
       "<p>3 rows × 27 columns</p>\n",
       "</div>"
      ],
      "text/plain": [
       "     month    state   permit  permit_recheck  handgun  long_gun  other  \\\n",
       "0  2017-09  Alabama  16717.0             0.0   5734.0    6320.0  221.0   \n",
       "1  2017-09   Alaska    209.0             2.0   2320.0    2930.0  219.0   \n",
       "2  2017-09  Arizona   5069.0           382.0  11063.0    7946.0  920.0   \n",
       "\n",
       "   multiple  admin  prepawn_handgun  ...  returned_other  rentals_handgun  \\\n",
       "0       317    0.0             15.0  ...             0.0              0.0   \n",
       "1       160    0.0              5.0  ...             0.0              0.0   \n",
       "2       631    0.0             13.0  ...             0.0              0.0   \n",
       "\n",
       "   rentals_long_gun  private_sale_handgun  private_sale_long_gun  \\\n",
       "0               0.0                   9.0                   16.0   \n",
       "1               0.0                  17.0                   24.0   \n",
       "2               0.0                  38.0                   12.0   \n",
       "\n",
       "   private_sale_other  return_to_seller_handgun  return_to_seller_long_gun  \\\n",
       "0                 3.0                       0.0                        0.0   \n",
       "1                 1.0                       0.0                        0.0   \n",
       "2                 2.0                       0.0                        0.0   \n",
       "\n",
       "   return_to_seller_other  totals  \n",
       "0                     3.0   32019  \n",
       "1                     0.0    6303  \n",
       "2                     0.0   28394  \n",
       "\n",
       "[3 rows x 27 columns]"
      ]
     },
     "execution_count": 40,
     "metadata": {},
     "output_type": "execute_result"
    }
   ],
   "source": [
    "gun_df.head(3)"
   ]
  },
  {
   "cell_type": "code",
   "execution_count": 41,
   "metadata": {},
   "outputs": [
    {
     "data": {
      "text/html": [
       "<div>\n",
       "<style scoped>\n",
       "    .dataframe tbody tr th:only-of-type {\n",
       "        vertical-align: middle;\n",
       "    }\n",
       "\n",
       "    .dataframe tbody tr th {\n",
       "        vertical-align: top;\n",
       "    }\n",
       "\n",
       "    .dataframe thead th {\n",
       "        text-align: right;\n",
       "    }\n",
       "</style>\n",
       "<table border=\"1\" class=\"dataframe\">\n",
       "  <thead>\n",
       "    <tr style=\"text-align: right;\">\n",
       "      <th></th>\n",
       "      <th>Fact</th>\n",
       "      <th>Fact Note</th>\n",
       "      <th>Alabama</th>\n",
       "      <th>Alaska</th>\n",
       "      <th>Arizona</th>\n",
       "      <th>Arkansas</th>\n",
       "      <th>California</th>\n",
       "      <th>Colorado</th>\n",
       "      <th>Connecticut</th>\n",
       "      <th>Delaware</th>\n",
       "      <th>...</th>\n",
       "      <th>South Dakota</th>\n",
       "      <th>Tennessee</th>\n",
       "      <th>Texas</th>\n",
       "      <th>Utah</th>\n",
       "      <th>Vermont</th>\n",
       "      <th>Virginia</th>\n",
       "      <th>Washington</th>\n",
       "      <th>West Virginia</th>\n",
       "      <th>Wisconsin</th>\n",
       "      <th>Wyoming</th>\n",
       "    </tr>\n",
       "  </thead>\n",
       "  <tbody>\n",
       "    <tr>\n",
       "      <th>0</th>\n",
       "      <td>Population estimates, July 1, 2016,  (V2016)</td>\n",
       "      <td>NaN</td>\n",
       "      <td>4,863,300</td>\n",
       "      <td>741,894</td>\n",
       "      <td>6,931,071</td>\n",
       "      <td>2,988,248</td>\n",
       "      <td>39,250,017</td>\n",
       "      <td>5,540,545</td>\n",
       "      <td>3,576,452</td>\n",
       "      <td>952,065</td>\n",
       "      <td>...</td>\n",
       "      <td>865454</td>\n",
       "      <td>6651194</td>\n",
       "      <td>27,862,596</td>\n",
       "      <td>3,051,217</td>\n",
       "      <td>624,594</td>\n",
       "      <td>8,411,808</td>\n",
       "      <td>7,288,000</td>\n",
       "      <td>1,831,102</td>\n",
       "      <td>5,778,708</td>\n",
       "      <td>585,501</td>\n",
       "    </tr>\n",
       "    <tr>\n",
       "      <th>1</th>\n",
       "      <td>Population estimates base, April 1, 2010,  (V2...</td>\n",
       "      <td>NaN</td>\n",
       "      <td>4,780,131</td>\n",
       "      <td>710,249</td>\n",
       "      <td>6,392,301</td>\n",
       "      <td>2,916,025</td>\n",
       "      <td>37,254,522</td>\n",
       "      <td>5,029,324</td>\n",
       "      <td>3,574,114</td>\n",
       "      <td>897,936</td>\n",
       "      <td>...</td>\n",
       "      <td>814195</td>\n",
       "      <td>6346298</td>\n",
       "      <td>25,146,100</td>\n",
       "      <td>2,763,888</td>\n",
       "      <td>625,741</td>\n",
       "      <td>8,001,041</td>\n",
       "      <td>6,724,545</td>\n",
       "      <td>1,853,011</td>\n",
       "      <td>5,687,289</td>\n",
       "      <td>563,767</td>\n",
       "    </tr>\n",
       "    <tr>\n",
       "      <th>2</th>\n",
       "      <td>Population, percent change - April 1, 2010 (es...</td>\n",
       "      <td>NaN</td>\n",
       "      <td>1.70%</td>\n",
       "      <td>4.50%</td>\n",
       "      <td>8.40%</td>\n",
       "      <td>2.50%</td>\n",
       "      <td>5.40%</td>\n",
       "      <td>10.20%</td>\n",
       "      <td>0.10%</td>\n",
       "      <td>6.00%</td>\n",
       "      <td>...</td>\n",
       "      <td>0.063</td>\n",
       "      <td>0.048</td>\n",
       "      <td>10.80%</td>\n",
       "      <td>10.40%</td>\n",
       "      <td>-0.20%</td>\n",
       "      <td>5.10%</td>\n",
       "      <td>8.40%</td>\n",
       "      <td>-1.20%</td>\n",
       "      <td>1.60%</td>\n",
       "      <td>3.90%</td>\n",
       "    </tr>\n",
       "  </tbody>\n",
       "</table>\n",
       "<p>3 rows × 52 columns</p>\n",
       "</div>"
      ],
      "text/plain": [
       "                                                Fact Fact Note    Alabama  \\\n",
       "0       Population estimates, July 1, 2016,  (V2016)       NaN  4,863,300   \n",
       "1  Population estimates base, April 1, 2010,  (V2...       NaN  4,780,131   \n",
       "2  Population, percent change - April 1, 2010 (es...       NaN      1.70%   \n",
       "\n",
       "    Alaska    Arizona   Arkansas  California   Colorado Connecticut Delaware  \\\n",
       "0  741,894  6,931,071  2,988,248  39,250,017  5,540,545   3,576,452  952,065   \n",
       "1  710,249  6,392,301  2,916,025  37,254,522  5,029,324   3,574,114  897,936   \n",
       "2    4.50%      8.40%      2.50%       5.40%     10.20%       0.10%    6.00%   \n",
       "\n",
       "   ... South Dakota Tennessee       Texas       Utah  Vermont   Virginia  \\\n",
       "0  ...       865454   6651194  27,862,596  3,051,217  624,594  8,411,808   \n",
       "1  ...       814195   6346298  25,146,100  2,763,888  625,741  8,001,041   \n",
       "2  ...        0.063     0.048      10.80%     10.40%   -0.20%      5.10%   \n",
       "\n",
       "  Washington West Virginia  Wisconsin  Wyoming  \n",
       "0  7,288,000     1,831,102  5,778,708  585,501  \n",
       "1  6,724,545     1,853,011  5,687,289  563,767  \n",
       "2      8.40%        -1.20%      1.60%    3.90%  \n",
       "\n",
       "[3 rows x 52 columns]"
      ]
     },
     "execution_count": 41,
     "metadata": {},
     "output_type": "execute_result"
    }
   ],
   "source": [
    "census_df.head(3)\n"
   ]
  },
  {
   "cell_type": "markdown",
   "metadata": {},
   "source": [
    "<a id='wrangling'></a>\n",
    "## Data Wrangling\n",
    "\n",
    "### General Properties"
   ]
  },
  {
   "cell_type": "markdown",
   "metadata": {},
   "source": [
    "In this analysis we're only going to need the month, state and totals columns from the Gun data data frame, so we're going to take those and remove every thing else."
   ]
  },
  {
   "cell_type": "code",
   "execution_count": 42,
   "metadata": {},
   "outputs": [
    {
     "data": {
      "text/html": [
       "<div>\n",
       "<style scoped>\n",
       "    .dataframe tbody tr th:only-of-type {\n",
       "        vertical-align: middle;\n",
       "    }\n",
       "\n",
       "    .dataframe tbody tr th {\n",
       "        vertical-align: top;\n",
       "    }\n",
       "\n",
       "    .dataframe thead th {\n",
       "        text-align: right;\n",
       "    }\n",
       "</style>\n",
       "<table border=\"1\" class=\"dataframe\">\n",
       "  <thead>\n",
       "    <tr style=\"text-align: right;\">\n",
       "      <th></th>\n",
       "      <th>month</th>\n",
       "      <th>state</th>\n",
       "      <th>totals</th>\n",
       "    </tr>\n",
       "  </thead>\n",
       "  <tbody>\n",
       "    <tr>\n",
       "      <th>0</th>\n",
       "      <td>2017-09</td>\n",
       "      <td>Alabama</td>\n",
       "      <td>32019</td>\n",
       "    </tr>\n",
       "    <tr>\n",
       "      <th>1</th>\n",
       "      <td>2017-09</td>\n",
       "      <td>Alaska</td>\n",
       "      <td>6303</td>\n",
       "    </tr>\n",
       "    <tr>\n",
       "      <th>2</th>\n",
       "      <td>2017-09</td>\n",
       "      <td>Arizona</td>\n",
       "      <td>28394</td>\n",
       "    </tr>\n",
       "  </tbody>\n",
       "</table>\n",
       "</div>"
      ],
      "text/plain": [
       "     month    state  totals\n",
       "0  2017-09  Alabama   32019\n",
       "1  2017-09   Alaska    6303\n",
       "2  2017-09  Arizona   28394"
      ]
     },
     "execution_count": 42,
     "metadata": {},
     "output_type": "execute_result"
    }
   ],
   "source": [
    "gun_df = gun_df[['month', 'state', 'totals']]\n",
    "gun_df.head(3)"
   ]
  },
  {
   "cell_type": "markdown",
   "metadata": {},
   "source": [
    "And from the census data we're only going to need the population, education, income and poverty rows. and we don't need the Fact note column. "
   ]
  },
  {
   "cell_type": "code",
   "execution_count": 43,
   "metadata": {},
   "outputs": [
    {
     "data": {
      "text/html": [
       "<div>\n",
       "<style scoped>\n",
       "    .dataframe tbody tr th:only-of-type {\n",
       "        vertical-align: middle;\n",
       "    }\n",
       "\n",
       "    .dataframe tbody tr th {\n",
       "        vertical-align: top;\n",
       "    }\n",
       "\n",
       "    .dataframe thead th {\n",
       "        text-align: right;\n",
       "    }\n",
       "</style>\n",
       "<table border=\"1\" class=\"dataframe\">\n",
       "  <thead>\n",
       "    <tr style=\"text-align: right;\">\n",
       "      <th></th>\n",
       "      <th>Fact</th>\n",
       "      <th>Alabama</th>\n",
       "      <th>Alaska</th>\n",
       "      <th>Arizona</th>\n",
       "      <th>Arkansas</th>\n",
       "      <th>California</th>\n",
       "      <th>Colorado</th>\n",
       "      <th>Connecticut</th>\n",
       "      <th>Delaware</th>\n",
       "      <th>Florida</th>\n",
       "      <th>...</th>\n",
       "      <th>South Dakota</th>\n",
       "      <th>Tennessee</th>\n",
       "      <th>Texas</th>\n",
       "      <th>Utah</th>\n",
       "      <th>Vermont</th>\n",
       "      <th>Virginia</th>\n",
       "      <th>Washington</th>\n",
       "      <th>West Virginia</th>\n",
       "      <th>Wisconsin</th>\n",
       "      <th>Wyoming</th>\n",
       "    </tr>\n",
       "  </thead>\n",
       "  <tbody>\n",
       "    <tr>\n",
       "      <th>0</th>\n",
       "      <td>Population estimates, July 1, 2016,  (V2016)</td>\n",
       "      <td>4,863,300</td>\n",
       "      <td>741,894</td>\n",
       "      <td>6,931,071</td>\n",
       "      <td>2,988,248</td>\n",
       "      <td>39,250,017</td>\n",
       "      <td>5,540,545</td>\n",
       "      <td>3,576,452</td>\n",
       "      <td>952,065</td>\n",
       "      <td>20,612,439</td>\n",
       "      <td>...</td>\n",
       "      <td>865454</td>\n",
       "      <td>6651194</td>\n",
       "      <td>27,862,596</td>\n",
       "      <td>3,051,217</td>\n",
       "      <td>624,594</td>\n",
       "      <td>8,411,808</td>\n",
       "      <td>7,288,000</td>\n",
       "      <td>1,831,102</td>\n",
       "      <td>5,778,708</td>\n",
       "      <td>585,501</td>\n",
       "    </tr>\n",
       "    <tr>\n",
       "      <th>35</th>\n",
       "      <td>Bachelor's degree or higher, percent of person...</td>\n",
       "      <td>23.50%</td>\n",
       "      <td>28.00%</td>\n",
       "      <td>27.50%</td>\n",
       "      <td>21.10%</td>\n",
       "      <td>31.40%</td>\n",
       "      <td>38.10%</td>\n",
       "      <td>37.60%</td>\n",
       "      <td>30.00%</td>\n",
       "      <td>27.30%</td>\n",
       "      <td>...</td>\n",
       "      <td>0.27</td>\n",
       "      <td>0.249</td>\n",
       "      <td>27.60%</td>\n",
       "      <td>31.10%</td>\n",
       "      <td>36.00%</td>\n",
       "      <td>36.30%</td>\n",
       "      <td>32.90%</td>\n",
       "      <td>19.20%</td>\n",
       "      <td>27.80%</td>\n",
       "      <td>25.70%</td>\n",
       "    </tr>\n",
       "    <tr>\n",
       "      <th>48</th>\n",
       "      <td>Per capita income in past 12 months (in 2015 d...</td>\n",
       "      <td>$24,091</td>\n",
       "      <td>$33,413</td>\n",
       "      <td>$25,848</td>\n",
       "      <td>$22,798</td>\n",
       "      <td>$30,318</td>\n",
       "      <td>$32,217</td>\n",
       "      <td>$38,803</td>\n",
       "      <td>$30,554</td>\n",
       "      <td>$26,829</td>\n",
       "      <td>...</td>\n",
       "      <td>26747</td>\n",
       "      <td>25227</td>\n",
       "      <td>$26,999</td>\n",
       "      <td>$24,686</td>\n",
       "      <td>$29,894</td>\n",
       "      <td>$34,152</td>\n",
       "      <td>$31,762</td>\n",
       "      <td>$23,450</td>\n",
       "      <td>$28,340</td>\n",
       "      <td>$29,803</td>\n",
       "    </tr>\n",
       "    <tr>\n",
       "      <th>49</th>\n",
       "      <td>Persons in poverty, percent</td>\n",
       "      <td>17.10%</td>\n",
       "      <td>9.90%</td>\n",
       "      <td>16.40%</td>\n",
       "      <td>17.20%</td>\n",
       "      <td>14.30%</td>\n",
       "      <td>11.00%</td>\n",
       "      <td>9.80%</td>\n",
       "      <td>11.70%</td>\n",
       "      <td>14.70%</td>\n",
       "      <td>...</td>\n",
       "      <td>0.133</td>\n",
       "      <td>0.158</td>\n",
       "      <td>15.60%</td>\n",
       "      <td>10.20%</td>\n",
       "      <td>11.90%</td>\n",
       "      <td>11.00%</td>\n",
       "      <td>11.30%</td>\n",
       "      <td>17.90%</td>\n",
       "      <td>11.80%</td>\n",
       "      <td>11.30%</td>\n",
       "    </tr>\n",
       "  </tbody>\n",
       "</table>\n",
       "<p>4 rows × 51 columns</p>\n",
       "</div>"
      ],
      "text/plain": [
       "                                                 Fact    Alabama    Alaska  \\\n",
       "0        Population estimates, July 1, 2016,  (V2016)  4,863,300   741,894   \n",
       "35  Bachelor's degree or higher, percent of person...     23.50%    28.00%   \n",
       "48  Per capita income in past 12 months (in 2015 d...   $24,091   $33,413    \n",
       "49                        Persons in poverty, percent     17.10%     9.90%   \n",
       "\n",
       "      Arizona   Arkansas  California   Colorado Connecticut  Delaware  \\\n",
       "0   6,931,071  2,988,248  39,250,017  5,540,545   3,576,452   952,065   \n",
       "35     27.50%     21.10%      31.40%     38.10%      37.60%    30.00%   \n",
       "48   $25,848    $22,798     $30,318    $32,217     $38,803   $30,554    \n",
       "49     16.40%     17.20%      14.30%     11.00%       9.80%    11.70%   \n",
       "\n",
       "       Florida  ... South Dakota Tennessee       Texas       Utah   Vermont  \\\n",
       "0   20,612,439  ...       865454   6651194  27,862,596  3,051,217   624,594   \n",
       "35      27.30%  ...         0.27     0.249      27.60%     31.10%    36.00%   \n",
       "48    $26,829   ...        26747     25227    $26,999    $24,686   $29,894    \n",
       "49      14.70%  ...        0.133     0.158      15.60%     10.20%    11.90%   \n",
       "\n",
       "     Virginia Washington West Virginia  Wisconsin   Wyoming  \n",
       "0   8,411,808  7,288,000     1,831,102  5,778,708   585,501  \n",
       "35     36.30%     32.90%        19.20%     27.80%    25.70%  \n",
       "48   $34,152    $31,762       $23,450    $28,340   $29,803   \n",
       "49     11.00%     11.30%        17.90%     11.80%    11.30%  \n",
       "\n",
       "[4 rows x 51 columns]"
      ]
     },
     "execution_count": 43,
     "metadata": {},
     "output_type": "execute_result"
    }
   ],
   "source": [
    "#choosing the rows\n",
    "census_df = census_df.loc[[0,35,48,49]] \n",
    "\n",
    "#removing the fact note column from the census_df\n",
    "census_df.drop(['Fact Note'], axis=1, inplace=True)\n",
    "census_df"
   ]
  },
  {
   "cell_type": "markdown",
   "metadata": {},
   "source": [
    "and now we'll take a look on the data types of each column"
   ]
  },
  {
   "cell_type": "code",
   "execution_count": 44,
   "metadata": {},
   "outputs": [
    {
     "data": {
      "text/plain": [
       "month     object\n",
       "state     object\n",
       "totals     int64\n",
       "dtype: object"
      ]
     },
     "execution_count": 44,
     "metadata": {},
     "output_type": "execute_result"
    }
   ],
   "source": [
    "#exploring the data types in gun_df \n",
    "gun_df.dtypes"
   ]
  },
  {
   "cell_type": "code",
   "execution_count": 45,
   "metadata": {},
   "outputs": [
    {
     "data": {
      "text/plain": [
       "Fact              object\n",
       "Alabama           object\n",
       "Alaska            object\n",
       "Arizona           object\n",
       "Arkansas          object\n",
       "California        object\n",
       "Colorado          object\n",
       "Connecticut       object\n",
       "Delaware          object\n",
       "Florida           object\n",
       "Georgia           object\n",
       "Hawaii            object\n",
       "Idaho             object\n",
       "Illinois          object\n",
       "Indiana           object\n",
       "Iowa              object\n",
       "Kansas            object\n",
       "Kentucky          object\n",
       "Louisiana         object\n",
       "Maine             object\n",
       "Maryland          object\n",
       "Massachusetts     object\n",
       "Michigan          object\n",
       "Minnesota         object\n",
       "Mississippi       object\n",
       "Missouri          object\n",
       "Montana           object\n",
       "Nebraska          object\n",
       "Nevada            object\n",
       "New Hampshire     object\n",
       "New Jersey        object\n",
       "New Mexico        object\n",
       "New York          object\n",
       "North Carolina    object\n",
       "North Dakota      object\n",
       "Ohio              object\n",
       "Oklahoma          object\n",
       "Oregon            object\n",
       "Pennsylvania      object\n",
       "Rhode Island      object\n",
       "South Carolina    object\n",
       "South Dakota      object\n",
       "Tennessee         object\n",
       "Texas             object\n",
       "Utah              object\n",
       "Vermont           object\n",
       "Virginia          object\n",
       "Washington        object\n",
       "West Virginia     object\n",
       "Wisconsin         object\n",
       "Wyoming           object\n",
       "dtype: object"
      ]
     },
     "execution_count": 45,
     "metadata": {},
     "output_type": "execute_result"
    }
   ],
   "source": [
    "#exploring the data types in census_Df\n",
    "census_df.dtypes"
   ]
  },
  {
   "cell_type": "code",
   "execution_count": 46,
   "metadata": {},
   "outputs": [
    {
     "data": {
      "text/plain": [
       "month     0\n",
       "state     0\n",
       "totals    0\n",
       "dtype: int64"
      ]
     },
     "execution_count": 46,
     "metadata": {},
     "output_type": "execute_result"
    }
   ],
   "source": [
    "#chceking for missing data in gun_df\n",
    "gun_df.isnull().sum()"
   ]
  },
  {
   "cell_type": "code",
   "execution_count": 47,
   "metadata": {},
   "outputs": [
    {
     "data": {
      "text/plain": [
       "False"
      ]
     },
     "execution_count": 47,
     "metadata": {},
     "output_type": "execute_result"
    }
   ],
   "source": [
    "#checking for duplicates\n",
    "gun_df.duplicated().any()"
   ]
  },
  {
   "cell_type": "code",
   "execution_count": 48,
   "metadata": {},
   "outputs": [
    {
     "data": {
      "text/plain": [
       "0"
      ]
     },
     "execution_count": 48,
     "metadata": {},
     "output_type": "execute_result"
    }
   ],
   "source": [
    "#checking for duplicates in census data\n",
    "census_df.duplicated().sum()"
   ]
  },
  {
   "cell_type": "code",
   "execution_count": 49,
   "metadata": {},
   "outputs": [
    {
     "data": {
      "text/plain": [
       "Fact              False\n",
       "Alabama           False\n",
       "Alaska            False\n",
       "Arizona           False\n",
       "Arkansas          False\n",
       "California        False\n",
       "Colorado          False\n",
       "Connecticut       False\n",
       "Delaware          False\n",
       "Florida           False\n",
       "Georgia           False\n",
       "Hawaii            False\n",
       "Idaho             False\n",
       "Illinois          False\n",
       "Indiana           False\n",
       "Iowa              False\n",
       "Kansas            False\n",
       "Kentucky          False\n",
       "Louisiana         False\n",
       "Maine             False\n",
       "Maryland          False\n",
       "Massachusetts     False\n",
       "Michigan          False\n",
       "Minnesota         False\n",
       "Mississippi       False\n",
       "Missouri          False\n",
       "Montana           False\n",
       "Nebraska          False\n",
       "Nevada            False\n",
       "New Hampshire     False\n",
       "New Jersey        False\n",
       "New Mexico        False\n",
       "New York          False\n",
       "North Carolina    False\n",
       "North Dakota      False\n",
       "Ohio              False\n",
       "Oklahoma          False\n",
       "Oregon            False\n",
       "Pennsylvania      False\n",
       "Rhode Island      False\n",
       "South Carolina    False\n",
       "South Dakota      False\n",
       "Tennessee         False\n",
       "Texas             False\n",
       "Utah              False\n",
       "Vermont           False\n",
       "Virginia          False\n",
       "Washington        False\n",
       "West Virginia     False\n",
       "Wisconsin         False\n",
       "Wyoming           False\n",
       "dtype: bool"
      ]
     },
     "execution_count": 49,
     "metadata": {},
     "output_type": "execute_result"
    }
   ],
   "source": [
    "#checking for missing data in census\n",
    "census_df.isnull().any()"
   ]
  },
  {
   "cell_type": "markdown",
   "metadata": {},
   "source": [
    "### Data Cleaning\n",
    "#### Here we're going to:\n",
    ">Rename the rows in census_df to more convenient names\n",
    ">\n",
    ">Transpose the census_df makeing the rows into columns\n",
    ">\n",
    ">Transform data types\n",
    ">\n",
    ">Merge the census and the gun data frames "
   ]
  },
  {
   "cell_type": "code",
   "execution_count": 50,
   "metadata": {},
   "outputs": [
    {
     "data": {
      "text/html": [
       "<div>\n",
       "<style scoped>\n",
       "    .dataframe tbody tr th:only-of-type {\n",
       "        vertical-align: middle;\n",
       "    }\n",
       "\n",
       "    .dataframe tbody tr th {\n",
       "        vertical-align: top;\n",
       "    }\n",
       "\n",
       "    .dataframe thead th {\n",
       "        text-align: right;\n",
       "    }\n",
       "</style>\n",
       "<table border=\"1\" class=\"dataframe\">\n",
       "  <thead>\n",
       "    <tr style=\"text-align: right;\">\n",
       "      <th></th>\n",
       "      <th>Fact</th>\n",
       "      <th>Alabama</th>\n",
       "      <th>Alaska</th>\n",
       "      <th>Arizona</th>\n",
       "      <th>Arkansas</th>\n",
       "      <th>California</th>\n",
       "      <th>Colorado</th>\n",
       "      <th>Connecticut</th>\n",
       "      <th>Delaware</th>\n",
       "      <th>Florida</th>\n",
       "      <th>...</th>\n",
       "      <th>South Dakota</th>\n",
       "      <th>Tennessee</th>\n",
       "      <th>Texas</th>\n",
       "      <th>Utah</th>\n",
       "      <th>Vermont</th>\n",
       "      <th>Virginia</th>\n",
       "      <th>Washington</th>\n",
       "      <th>West Virginia</th>\n",
       "      <th>Wisconsin</th>\n",
       "      <th>Wyoming</th>\n",
       "    </tr>\n",
       "  </thead>\n",
       "  <tbody>\n",
       "    <tr>\n",
       "      <th>0</th>\n",
       "      <td>population_16</td>\n",
       "      <td>4,863,300</td>\n",
       "      <td>741,894</td>\n",
       "      <td>6,931,071</td>\n",
       "      <td>2,988,248</td>\n",
       "      <td>39,250,017</td>\n",
       "      <td>5,540,545</td>\n",
       "      <td>3,576,452</td>\n",
       "      <td>952,065</td>\n",
       "      <td>20,612,439</td>\n",
       "      <td>...</td>\n",
       "      <td>865454</td>\n",
       "      <td>6651194</td>\n",
       "      <td>27,862,596</td>\n",
       "      <td>3,051,217</td>\n",
       "      <td>624,594</td>\n",
       "      <td>8,411,808</td>\n",
       "      <td>7,288,000</td>\n",
       "      <td>1,831,102</td>\n",
       "      <td>5,778,708</td>\n",
       "      <td>585,501</td>\n",
       "    </tr>\n",
       "    <tr>\n",
       "      <th>35</th>\n",
       "      <td>higher_edu_15</td>\n",
       "      <td>23.50%</td>\n",
       "      <td>28.00%</td>\n",
       "      <td>27.50%</td>\n",
       "      <td>21.10%</td>\n",
       "      <td>31.40%</td>\n",
       "      <td>38.10%</td>\n",
       "      <td>37.60%</td>\n",
       "      <td>30.00%</td>\n",
       "      <td>27.30%</td>\n",
       "      <td>...</td>\n",
       "      <td>0.27</td>\n",
       "      <td>0.249</td>\n",
       "      <td>27.60%</td>\n",
       "      <td>31.10%</td>\n",
       "      <td>36.00%</td>\n",
       "      <td>36.30%</td>\n",
       "      <td>32.90%</td>\n",
       "      <td>19.20%</td>\n",
       "      <td>27.80%</td>\n",
       "      <td>25.70%</td>\n",
       "    </tr>\n",
       "    <tr>\n",
       "      <th>48</th>\n",
       "      <td>income_15</td>\n",
       "      <td>$24,091</td>\n",
       "      <td>$33,413</td>\n",
       "      <td>$25,848</td>\n",
       "      <td>$22,798</td>\n",
       "      <td>$30,318</td>\n",
       "      <td>$32,217</td>\n",
       "      <td>$38,803</td>\n",
       "      <td>$30,554</td>\n",
       "      <td>$26,829</td>\n",
       "      <td>...</td>\n",
       "      <td>26747</td>\n",
       "      <td>25227</td>\n",
       "      <td>$26,999</td>\n",
       "      <td>$24,686</td>\n",
       "      <td>$29,894</td>\n",
       "      <td>$34,152</td>\n",
       "      <td>$31,762</td>\n",
       "      <td>$23,450</td>\n",
       "      <td>$28,340</td>\n",
       "      <td>$29,803</td>\n",
       "    </tr>\n",
       "    <tr>\n",
       "      <th>49</th>\n",
       "      <td>poverty</td>\n",
       "      <td>17.10%</td>\n",
       "      <td>9.90%</td>\n",
       "      <td>16.40%</td>\n",
       "      <td>17.20%</td>\n",
       "      <td>14.30%</td>\n",
       "      <td>11.00%</td>\n",
       "      <td>9.80%</td>\n",
       "      <td>11.70%</td>\n",
       "      <td>14.70%</td>\n",
       "      <td>...</td>\n",
       "      <td>0.133</td>\n",
       "      <td>0.158</td>\n",
       "      <td>15.60%</td>\n",
       "      <td>10.20%</td>\n",
       "      <td>11.90%</td>\n",
       "      <td>11.00%</td>\n",
       "      <td>11.30%</td>\n",
       "      <td>17.90%</td>\n",
       "      <td>11.80%</td>\n",
       "      <td>11.30%</td>\n",
       "    </tr>\n",
       "  </tbody>\n",
       "</table>\n",
       "<p>4 rows × 51 columns</p>\n",
       "</div>"
      ],
      "text/plain": [
       "             Fact    Alabama    Alaska    Arizona   Arkansas  California  \\\n",
       "0   population_16  4,863,300   741,894  6,931,071  2,988,248  39,250,017   \n",
       "35  higher_edu_15     23.50%    28.00%     27.50%     21.10%      31.40%   \n",
       "48      income_15   $24,091   $33,413    $25,848    $22,798     $30,318    \n",
       "49        poverty     17.10%     9.90%     16.40%     17.20%      14.30%   \n",
       "\n",
       "     Colorado Connecticut  Delaware     Florida  ... South Dakota Tennessee  \\\n",
       "0   5,540,545   3,576,452   952,065  20,612,439  ...       865454   6651194   \n",
       "35     38.10%      37.60%    30.00%      27.30%  ...         0.27     0.249   \n",
       "48   $32,217     $38,803   $30,554     $26,829   ...        26747     25227   \n",
       "49     11.00%       9.80%    11.70%      14.70%  ...        0.133     0.158   \n",
       "\n",
       "         Texas       Utah   Vermont   Virginia Washington West Virginia  \\\n",
       "0   27,862,596  3,051,217   624,594  8,411,808  7,288,000     1,831,102   \n",
       "35      27.60%     31.10%    36.00%     36.30%     32.90%        19.20%   \n",
       "48    $26,999    $24,686   $29,894    $34,152    $31,762       $23,450    \n",
       "49      15.60%     10.20%    11.90%     11.00%     11.30%        17.90%   \n",
       "\n",
       "    Wisconsin   Wyoming  \n",
       "0   5,778,708   585,501  \n",
       "35     27.80%    25.70%  \n",
       "48   $28,340   $29,803   \n",
       "49     11.80%    11.30%  \n",
       "\n",
       "[4 rows x 51 columns]"
      ]
     },
     "execution_count": 50,
     "metadata": {},
     "output_type": "execute_result"
    }
   ],
   "source": [
    "#renaming the columns to more convenient names\n",
    "census_df['Fact'] = ['population_16', 'higher_edu_15', 'income_15', 'poverty']  \n",
    "census_df"
   ]
  },
  {
   "cell_type": "code",
   "execution_count": 51,
   "metadata": {},
   "outputs": [
    {
     "data": {
      "text/html": [
       "<div>\n",
       "<style scoped>\n",
       "    .dataframe tbody tr th:only-of-type {\n",
       "        vertical-align: middle;\n",
       "    }\n",
       "\n",
       "    .dataframe tbody tr th {\n",
       "        vertical-align: top;\n",
       "    }\n",
       "\n",
       "    .dataframe thead th {\n",
       "        text-align: right;\n",
       "    }\n",
       "</style>\n",
       "<table border=\"1\" class=\"dataframe\">\n",
       "  <thead>\n",
       "    <tr style=\"text-align: right;\">\n",
       "      <th>Fact</th>\n",
       "      <th>population_16</th>\n",
       "      <th>higher_edu_15</th>\n",
       "      <th>income_15</th>\n",
       "      <th>poverty</th>\n",
       "    </tr>\n",
       "  </thead>\n",
       "  <tbody>\n",
       "    <tr>\n",
       "      <th>Fact</th>\n",
       "      <td>population_16</td>\n",
       "      <td>higher_edu_15</td>\n",
       "      <td>income_15</td>\n",
       "      <td>poverty</td>\n",
       "    </tr>\n",
       "    <tr>\n",
       "      <th>Alabama</th>\n",
       "      <td>4,863,300</td>\n",
       "      <td>23.50%</td>\n",
       "      <td>$24,091</td>\n",
       "      <td>17.10%</td>\n",
       "    </tr>\n",
       "    <tr>\n",
       "      <th>Alaska</th>\n",
       "      <td>741,894</td>\n",
       "      <td>28.00%</td>\n",
       "      <td>$33,413</td>\n",
       "      <td>9.90%</td>\n",
       "    </tr>\n",
       "  </tbody>\n",
       "</table>\n",
       "</div>"
      ],
      "text/plain": [
       "Fact     population_16  higher_edu_15  income_15  poverty\n",
       "Fact     population_16  higher_edu_15  income_15  poverty\n",
       "Alabama      4,863,300         23.50%   $24,091    17.10%\n",
       "Alaska         741,894         28.00%   $33,413     9.90%"
      ]
     },
     "execution_count": 51,
     "metadata": {},
     "output_type": "execute_result"
    }
   ],
   "source": [
    "#making rows into columns \n",
    "census_df= census_df.transpose()\n",
    "census_df.columns = census_df.iloc[0]\n",
    "census_df.head(3)"
   ]
  },
  {
   "cell_type": "code",
   "execution_count": 52,
   "metadata": {},
   "outputs": [
    {
     "data": {
      "text/html": [
       "<div>\n",
       "<style scoped>\n",
       "    .dataframe tbody tr th:only-of-type {\n",
       "        vertical-align: middle;\n",
       "    }\n",
       "\n",
       "    .dataframe tbody tr th {\n",
       "        vertical-align: top;\n",
       "    }\n",
       "\n",
       "    .dataframe thead th {\n",
       "        text-align: right;\n",
       "    }\n",
       "</style>\n",
       "<table border=\"1\" class=\"dataframe\">\n",
       "  <thead>\n",
       "    <tr style=\"text-align: right;\">\n",
       "      <th>Fact</th>\n",
       "      <th>population_16</th>\n",
       "      <th>higher_edu_15</th>\n",
       "      <th>income_15</th>\n",
       "      <th>poverty</th>\n",
       "    </tr>\n",
       "  </thead>\n",
       "  <tbody>\n",
       "    <tr>\n",
       "      <th>Alabama</th>\n",
       "      <td>4,863,300</td>\n",
       "      <td>23.50%</td>\n",
       "      <td>$24,091</td>\n",
       "      <td>17.10%</td>\n",
       "    </tr>\n",
       "    <tr>\n",
       "      <th>Alaska</th>\n",
       "      <td>741,894</td>\n",
       "      <td>28.00%</td>\n",
       "      <td>$33,413</td>\n",
       "      <td>9.90%</td>\n",
       "    </tr>\n",
       "    <tr>\n",
       "      <th>Arizona</th>\n",
       "      <td>6,931,071</td>\n",
       "      <td>27.50%</td>\n",
       "      <td>$25,848</td>\n",
       "      <td>16.40%</td>\n",
       "    </tr>\n",
       "    <tr>\n",
       "      <th>Arkansas</th>\n",
       "      <td>2,988,248</td>\n",
       "      <td>21.10%</td>\n",
       "      <td>$22,798</td>\n",
       "      <td>17.20%</td>\n",
       "    </tr>\n",
       "    <tr>\n",
       "      <th>California</th>\n",
       "      <td>39,250,017</td>\n",
       "      <td>31.40%</td>\n",
       "      <td>$30,318</td>\n",
       "      <td>14.30%</td>\n",
       "    </tr>\n",
       "  </tbody>\n",
       "</table>\n",
       "</div>"
      ],
      "text/plain": [
       "Fact       population_16 higher_edu_15 income_15 poverty\n",
       "Alabama        4,863,300        23.50%  $24,091   17.10%\n",
       "Alaska           741,894        28.00%  $33,413    9.90%\n",
       "Arizona        6,931,071        27.50%  $25,848   16.40%\n",
       "Arkansas       2,988,248        21.10%  $22,798   17.20%\n",
       "California    39,250,017        31.40%  $30,318   14.30%"
      ]
     },
     "execution_count": 52,
     "metadata": {},
     "output_type": "execute_result"
    }
   ],
   "source": [
    "#droping the first row that we accedintly made\n",
    "census_df.drop('Fact', axis='index', inplace=True)\n",
    "census_df.head()"
   ]
  },
  {
   "cell_type": "code",
   "execution_count": 53,
   "metadata": {},
   "outputs": [
    {
     "data": {
      "text/html": [
       "<div>\n",
       "<style scoped>\n",
       "    .dataframe tbody tr th:only-of-type {\n",
       "        vertical-align: middle;\n",
       "    }\n",
       "\n",
       "    .dataframe tbody tr th {\n",
       "        vertical-align: top;\n",
       "    }\n",
       "\n",
       "    .dataframe thead th {\n",
       "        text-align: right;\n",
       "    }\n",
       "</style>\n",
       "<table border=\"1\" class=\"dataframe\">\n",
       "  <thead>\n",
       "    <tr style=\"text-align: right;\">\n",
       "      <th>Fact</th>\n",
       "      <th>population_16</th>\n",
       "      <th>higher_edu_15</th>\n",
       "      <th>income_15</th>\n",
       "      <th>poverty</th>\n",
       "    </tr>\n",
       "  </thead>\n",
       "  <tbody>\n",
       "    <tr>\n",
       "      <th>Alabama</th>\n",
       "      <td>4863300</td>\n",
       "      <td>23.50</td>\n",
       "      <td>24091</td>\n",
       "      <td>17.10</td>\n",
       "    </tr>\n",
       "    <tr>\n",
       "      <th>Alaska</th>\n",
       "      <td>741894</td>\n",
       "      <td>28.00</td>\n",
       "      <td>33413</td>\n",
       "      <td>9.90</td>\n",
       "    </tr>\n",
       "    <tr>\n",
       "      <th>Arizona</th>\n",
       "      <td>6931071</td>\n",
       "      <td>27.50</td>\n",
       "      <td>25848</td>\n",
       "      <td>16.40</td>\n",
       "    </tr>\n",
       "    <tr>\n",
       "      <th>Arkansas</th>\n",
       "      <td>2988248</td>\n",
       "      <td>21.10</td>\n",
       "      <td>22798</td>\n",
       "      <td>17.20</td>\n",
       "    </tr>\n",
       "    <tr>\n",
       "      <th>California</th>\n",
       "      <td>39250017</td>\n",
       "      <td>31.40</td>\n",
       "      <td>30318</td>\n",
       "      <td>14.30</td>\n",
       "    </tr>\n",
       "  </tbody>\n",
       "</table>\n",
       "</div>"
      ],
      "text/plain": [
       "Fact       population_16 higher_edu_15 income_15 poverty\n",
       "Alabama          4863300         23.50    24091    17.10\n",
       "Alaska            741894         28.00    33413     9.90\n",
       "Arizona          6931071         27.50    25848    16.40\n",
       "Arkansas         2988248         21.10    22798    17.20\n",
       "California      39250017         31.40    30318    14.30"
      ]
     },
     "execution_count": 53,
     "metadata": {},
     "output_type": "execute_result"
    }
   ],
   "source": [
    "#striping the strings from the signs so we can transform them into numeric dtypes \n",
    "census_df['income_15']= census_df['income_15'].str.strip('$')\n",
    "census_df['higher_edu_15']= census_df['higher_edu_15'].str.strip('%')\n",
    "census_df['poverty']= census_df['poverty'].str.strip('%')\n",
    "census_df = census_df.replace(',', '', regex=True)\n",
    "census_df.head()"
   ]
  },
  {
   "cell_type": "code",
   "execution_count": 54,
   "metadata": {
    "scrolled": true
   },
   "outputs": [
    {
     "data": {
      "text/plain": [
       "Fact\n",
       "population_16      int32\n",
       "higher_edu_15    float64\n",
       "income_15        float64\n",
       "poverty          float64\n",
       "dtype: object"
      ]
     },
     "execution_count": 54,
     "metadata": {},
     "output_type": "execute_result"
    }
   ],
   "source": [
    "#transforming the strings into numeric dtypes\n",
    "census_df['population_16'] = census_df['population_16'].astype(int)\n",
    "census_df['higher_edu_15'] = census_df['higher_edu_15'].astype(float)\n",
    "census_df['income_15'] = census_df['income_15'].astype(float)\n",
    "census_df['poverty'] = census_df['poverty'].astype(float)\n",
    "census_df.dtypes"
   ]
  },
  {
   "cell_type": "markdown",
   "metadata": {},
   "source": [
    "these are steps necessary for our merge:"
   ]
  },
  {
   "cell_type": "code",
   "execution_count": 55,
   "metadata": {},
   "outputs": [
    {
     "data": {
      "text/html": [
       "<div>\n",
       "<style scoped>\n",
       "    .dataframe tbody tr th:only-of-type {\n",
       "        vertical-align: middle;\n",
       "    }\n",
       "\n",
       "    .dataframe tbody tr th {\n",
       "        vertical-align: top;\n",
       "    }\n",
       "\n",
       "    .dataframe thead th {\n",
       "        text-align: right;\n",
       "    }\n",
       "</style>\n",
       "<table border=\"1\" class=\"dataframe\">\n",
       "  <thead>\n",
       "    <tr style=\"text-align: right;\">\n",
       "      <th>Fact</th>\n",
       "      <th>population_16</th>\n",
       "      <th>higher_edu_15</th>\n",
       "      <th>income_15</th>\n",
       "      <th>poverty</th>\n",
       "      <th>state</th>\n",
       "    </tr>\n",
       "  </thead>\n",
       "  <tbody>\n",
       "    <tr>\n",
       "      <th>Alabama</th>\n",
       "      <td>4863300</td>\n",
       "      <td>23.5</td>\n",
       "      <td>24091.0</td>\n",
       "      <td>17.1</td>\n",
       "      <td>Alabama</td>\n",
       "    </tr>\n",
       "  </tbody>\n",
       "</table>\n",
       "</div>"
      ],
      "text/plain": [
       "Fact     population_16  higher_edu_15  income_15  poverty    state\n",
       "Alabama        4863300           23.5    24091.0     17.1  Alabama"
      ]
     },
     "execution_count": 55,
     "metadata": {},
     "output_type": "execute_result"
    }
   ],
   "source": [
    "#creating a new column \"state\" from the index\n",
    "census_df['state'] = census_df.index\n",
    "census_df.head(1)"
   ]
  },
  {
   "cell_type": "code",
   "execution_count": 56,
   "metadata": {},
   "outputs": [
    {
     "data": {
      "text/html": [
       "<div>\n",
       "<style scoped>\n",
       "    .dataframe tbody tr th:only-of-type {\n",
       "        vertical-align: middle;\n",
       "    }\n",
       "\n",
       "    .dataframe tbody tr th {\n",
       "        vertical-align: top;\n",
       "    }\n",
       "\n",
       "    .dataframe thead th {\n",
       "        text-align: right;\n",
       "    }\n",
       "</style>\n",
       "<table border=\"1\" class=\"dataframe\">\n",
       "  <thead>\n",
       "    <tr style=\"text-align: right;\">\n",
       "      <th>Fact</th>\n",
       "      <th>index</th>\n",
       "      <th>population_16</th>\n",
       "      <th>higher_edu_15</th>\n",
       "      <th>income_15</th>\n",
       "      <th>poverty</th>\n",
       "      <th>state</th>\n",
       "    </tr>\n",
       "  </thead>\n",
       "  <tbody>\n",
       "    <tr>\n",
       "      <th>0</th>\n",
       "      <td>Alabama</td>\n",
       "      <td>4863300</td>\n",
       "      <td>23.5</td>\n",
       "      <td>24091.0</td>\n",
       "      <td>17.1</td>\n",
       "      <td>Alabama</td>\n",
       "    </tr>\n",
       "  </tbody>\n",
       "</table>\n",
       "</div>"
      ],
      "text/plain": [
       "Fact    index  population_16  higher_edu_15  income_15  poverty    state\n",
       "0     Alabama        4863300           23.5    24091.0     17.1  Alabama"
      ]
     },
     "execution_count": 56,
     "metadata": {},
     "output_type": "execute_result"
    }
   ],
   "source": [
    "#reseting the index scince it's no longer needed\n",
    "census_df = census_df.reset_index()\n",
    "census_df.head(1)"
   ]
  },
  {
   "cell_type": "code",
   "execution_count": 57,
   "metadata": {},
   "outputs": [
    {
     "data": {
      "text/plain": [
       "month     datetime64[ns]\n",
       "state             object\n",
       "totals             int64\n",
       "dtype: object"
      ]
     },
     "execution_count": 57,
     "metadata": {},
     "output_type": "execute_result"
    }
   ],
   "source": [
    "#transforming the month column to date time\n",
    "gun_df['month'] = pd.to_datetime(gun_df['month'])\n",
    "gun_df.dtypes"
   ]
  },
  {
   "cell_type": "code",
   "execution_count": 58,
   "metadata": {},
   "outputs": [],
   "source": [
    "#merging the two data frmaes\n",
    "df = pd.merge(gun_df, census_df, on='state', right_index=False)"
   ]
  },
  {
   "cell_type": "code",
   "execution_count": 59,
   "metadata": {},
   "outputs": [
    {
     "data": {
      "text/plain": [
       "month            0\n",
       "state            0\n",
       "totals           0\n",
       "index            0\n",
       "population_16    0\n",
       "higher_edu_15    0\n",
       "income_15        0\n",
       "poverty          0\n",
       "dtype: int64"
      ]
     },
     "execution_count": 59,
     "metadata": {},
     "output_type": "execute_result"
    }
   ],
   "source": [
    "#making sure there is no missing values\n",
    "df.isnull().sum()"
   ]
  },
  {
   "cell_type": "code",
   "execution_count": 60,
   "metadata": {},
   "outputs": [
    {
     "data": {
      "text/html": [
       "<div>\n",
       "<style scoped>\n",
       "    .dataframe tbody tr th:only-of-type {\n",
       "        vertical-align: middle;\n",
       "    }\n",
       "\n",
       "    .dataframe tbody tr th {\n",
       "        vertical-align: top;\n",
       "    }\n",
       "\n",
       "    .dataframe thead th {\n",
       "        text-align: right;\n",
       "    }\n",
       "</style>\n",
       "<table border=\"1\" class=\"dataframe\">\n",
       "  <thead>\n",
       "    <tr style=\"text-align: right;\">\n",
       "      <th></th>\n",
       "      <th>month</th>\n",
       "      <th>state</th>\n",
       "      <th>totals</th>\n",
       "      <th>index</th>\n",
       "      <th>population_16</th>\n",
       "      <th>higher_edu_15</th>\n",
       "      <th>income_15</th>\n",
       "      <th>poverty</th>\n",
       "      <th>year</th>\n",
       "    </tr>\n",
       "  </thead>\n",
       "  <tbody>\n",
       "    <tr>\n",
       "      <th>11340</th>\n",
       "      <td>1999-08-01</td>\n",
       "      <td>Wyoming</td>\n",
       "      <td>3047</td>\n",
       "      <td>Wyoming</td>\n",
       "      <td>585501</td>\n",
       "      <td>25.7</td>\n",
       "      <td>29803.0</td>\n",
       "      <td>11.3</td>\n",
       "      <td>1999</td>\n",
       "    </tr>\n",
       "    <tr>\n",
       "      <th>11341</th>\n",
       "      <td>1999-07-01</td>\n",
       "      <td>Wyoming</td>\n",
       "      <td>2513</td>\n",
       "      <td>Wyoming</td>\n",
       "      <td>585501</td>\n",
       "      <td>25.7</td>\n",
       "      <td>29803.0</td>\n",
       "      <td>11.3</td>\n",
       "      <td>1999</td>\n",
       "    </tr>\n",
       "    <tr>\n",
       "      <th>11342</th>\n",
       "      <td>1999-06-01</td>\n",
       "      <td>Wyoming</td>\n",
       "      <td>2602</td>\n",
       "      <td>Wyoming</td>\n",
       "      <td>585501</td>\n",
       "      <td>25.7</td>\n",
       "      <td>29803.0</td>\n",
       "      <td>11.3</td>\n",
       "      <td>1999</td>\n",
       "    </tr>\n",
       "    <tr>\n",
       "      <th>11343</th>\n",
       "      <td>1999-05-01</td>\n",
       "      <td>Wyoming</td>\n",
       "      <td>2531</td>\n",
       "      <td>Wyoming</td>\n",
       "      <td>585501</td>\n",
       "      <td>25.7</td>\n",
       "      <td>29803.0</td>\n",
       "      <td>11.3</td>\n",
       "      <td>1999</td>\n",
       "    </tr>\n",
       "    <tr>\n",
       "      <th>11344</th>\n",
       "      <td>1999-04-01</td>\n",
       "      <td>Wyoming</td>\n",
       "      <td>2702</td>\n",
       "      <td>Wyoming</td>\n",
       "      <td>585501</td>\n",
       "      <td>25.7</td>\n",
       "      <td>29803.0</td>\n",
       "      <td>11.3</td>\n",
       "      <td>1999</td>\n",
       "    </tr>\n",
       "    <tr>\n",
       "      <th>11345</th>\n",
       "      <td>1999-03-01</td>\n",
       "      <td>Wyoming</td>\n",
       "      <td>2776</td>\n",
       "      <td>Wyoming</td>\n",
       "      <td>585501</td>\n",
       "      <td>25.7</td>\n",
       "      <td>29803.0</td>\n",
       "      <td>11.3</td>\n",
       "      <td>1999</td>\n",
       "    </tr>\n",
       "    <tr>\n",
       "      <th>11346</th>\n",
       "      <td>1999-02-01</td>\n",
       "      <td>Wyoming</td>\n",
       "      <td>2643</td>\n",
       "      <td>Wyoming</td>\n",
       "      <td>585501</td>\n",
       "      <td>25.7</td>\n",
       "      <td>29803.0</td>\n",
       "      <td>11.3</td>\n",
       "      <td>1999</td>\n",
       "    </tr>\n",
       "    <tr>\n",
       "      <th>11347</th>\n",
       "      <td>1999-01-01</td>\n",
       "      <td>Wyoming</td>\n",
       "      <td>2180</td>\n",
       "      <td>Wyoming</td>\n",
       "      <td>585501</td>\n",
       "      <td>25.7</td>\n",
       "      <td>29803.0</td>\n",
       "      <td>11.3</td>\n",
       "      <td>1999</td>\n",
       "    </tr>\n",
       "    <tr>\n",
       "      <th>11348</th>\n",
       "      <td>1998-12-01</td>\n",
       "      <td>Wyoming</td>\n",
       "      <td>3379</td>\n",
       "      <td>Wyoming</td>\n",
       "      <td>585501</td>\n",
       "      <td>25.7</td>\n",
       "      <td>29803.0</td>\n",
       "      <td>11.3</td>\n",
       "      <td>1998</td>\n",
       "    </tr>\n",
       "    <tr>\n",
       "      <th>11349</th>\n",
       "      <td>1998-11-01</td>\n",
       "      <td>Wyoming</td>\n",
       "      <td>107</td>\n",
       "      <td>Wyoming</td>\n",
       "      <td>585501</td>\n",
       "      <td>25.7</td>\n",
       "      <td>29803.0</td>\n",
       "      <td>11.3</td>\n",
       "      <td>1998</td>\n",
       "    </tr>\n",
       "  </tbody>\n",
       "</table>\n",
       "</div>"
      ],
      "text/plain": [
       "           month    state  totals    index  population_16  higher_edu_15  \\\n",
       "11340 1999-08-01  Wyoming    3047  Wyoming         585501           25.7   \n",
       "11341 1999-07-01  Wyoming    2513  Wyoming         585501           25.7   \n",
       "11342 1999-06-01  Wyoming    2602  Wyoming         585501           25.7   \n",
       "11343 1999-05-01  Wyoming    2531  Wyoming         585501           25.7   \n",
       "11344 1999-04-01  Wyoming    2702  Wyoming         585501           25.7   \n",
       "11345 1999-03-01  Wyoming    2776  Wyoming         585501           25.7   \n",
       "11346 1999-02-01  Wyoming    2643  Wyoming         585501           25.7   \n",
       "11347 1999-01-01  Wyoming    2180  Wyoming         585501           25.7   \n",
       "11348 1998-12-01  Wyoming    3379  Wyoming         585501           25.7   \n",
       "11349 1998-11-01  Wyoming     107  Wyoming         585501           25.7   \n",
       "\n",
       "       income_15  poverty  year  \n",
       "11340    29803.0     11.3  1999  \n",
       "11341    29803.0     11.3  1999  \n",
       "11342    29803.0     11.3  1999  \n",
       "11343    29803.0     11.3  1999  \n",
       "11344    29803.0     11.3  1999  \n",
       "11345    29803.0     11.3  1999  \n",
       "11346    29803.0     11.3  1999  \n",
       "11347    29803.0     11.3  1999  \n",
       "11348    29803.0     11.3  1998  \n",
       "11349    29803.0     11.3  1998  "
      ]
     },
     "execution_count": 60,
     "metadata": {},
     "output_type": "execute_result"
    }
   ],
   "source": [
    "#extracting a year column wich is going to be helpful later in query\n",
    "df['year'] = pd.DatetimeIndex(df['month']).year\n",
    "df.tail(10)"
   ]
  },
  {
   "cell_type": "code",
   "execution_count": 61,
   "metadata": {},
   "outputs": [],
   "source": [
    "#removing the accedintly made index column\n",
    "df.drop('index', axis=1, inplace=True)"
   ]
  },
  {
   "cell_type": "code",
   "execution_count": 62,
   "metadata": {},
   "outputs": [
    {
     "data": {
      "text/html": [
       "<div>\n",
       "<style scoped>\n",
       "    .dataframe tbody tr th:only-of-type {\n",
       "        vertical-align: middle;\n",
       "    }\n",
       "\n",
       "    .dataframe tbody tr th {\n",
       "        vertical-align: top;\n",
       "    }\n",
       "\n",
       "    .dataframe thead th {\n",
       "        text-align: right;\n",
       "    }\n",
       "</style>\n",
       "<table border=\"1\" class=\"dataframe\">\n",
       "  <thead>\n",
       "    <tr style=\"text-align: right;\">\n",
       "      <th></th>\n",
       "      <th>month</th>\n",
       "      <th>state</th>\n",
       "      <th>totals</th>\n",
       "      <th>population_16</th>\n",
       "      <th>higher_edu_15</th>\n",
       "      <th>income_15</th>\n",
       "      <th>poverty</th>\n",
       "      <th>year</th>\n",
       "    </tr>\n",
       "  </thead>\n",
       "  <tbody>\n",
       "    <tr>\n",
       "      <th>0</th>\n",
       "      <td>2017-09-01</td>\n",
       "      <td>Alabama</td>\n",
       "      <td>32019</td>\n",
       "      <td>4863300</td>\n",
       "      <td>23.5</td>\n",
       "      <td>24091.0</td>\n",
       "      <td>17.1</td>\n",
       "      <td>2017</td>\n",
       "    </tr>\n",
       "  </tbody>\n",
       "</table>\n",
       "</div>"
      ],
      "text/plain": [
       "       month    state  totals  population_16  higher_edu_15  income_15  \\\n",
       "0 2017-09-01  Alabama   32019        4863300           23.5    24091.0   \n",
       "\n",
       "   poverty  year  \n",
       "0     17.1  2017  "
      ]
     },
     "execution_count": 62,
     "metadata": {},
     "output_type": "execute_result"
    }
   ],
   "source": [
    "df.head(1)"
   ]
  },
  {
   "cell_type": "markdown",
   "metadata": {},
   "source": [
    "<a id='eda'></a>\n",
    "## Exploratory Data Analysis\n",
    "\n"
   ]
  },
  {
   "cell_type": "markdown",
   "metadata": {},
   "source": [
    "### Exporing the different variables"
   ]
  },
  {
   "cell_type": "code",
   "execution_count": 63,
   "metadata": {},
   "outputs": [
    {
     "data": {
      "image/png": "[encoded data removed]",
      "text/plain": [
       "<Figure size 2000x1000 with 9 Axes>"
      ]
     },
     "metadata": {},
     "output_type": "display_data"
    }
   ],
   "source": [
    "#exploring the data frame\n",
    "df.hist(figsize=(20,10));"
   ]
  },
  {
   "cell_type": "markdown",
   "metadata": {},
   "source": [
    "from these histograms we can see that the population and income are left skewed "
   ]
  },
  {
   "cell_type": "markdown",
   "metadata": {},
   "source": [
    "\n",
    "### The change in background checks over time\n"
   ]
  },
  {
   "cell_type": "markdown",
   "metadata": {},
   "source": [
    "here we are going to make a bar plot to see the change of background checks over time."
   ]
  },
  {
   "cell_type": "code",
   "execution_count": 64,
   "metadata": {},
   "outputs": [],
   "source": [
    "#making a function to make bar for later\n",
    "def bar(x, y, clr, xlabel, ylabel, title):\n",
    "    plt.bar(x, y, color = clr)\n",
    "    plt.xlabel(xlabel)\n",
    "    plt.ylabel(ylabel)\n",
    "    plt.title(title);"
   ]
  },
  {
   "cell_type": "code",
   "execution_count": 65,
   "metadata": {},
   "outputs": [
    {
     "data": {
      "text/plain": [
       "count    2.000000e+01\n",
       "mean     1.348113e+07\n",
       "std      6.497589e+06\n",
       "min      8.918980e+05\n",
       "25%      8.760006e+06\n",
       "50%      1.192763e+07\n",
       "75%      1.835885e+07\n",
       "max      2.742551e+07\n",
       "Name: totals, dtype: float64"
      ]
     },
     "execution_count": 65,
     "metadata": {},
     "output_type": "execute_result"
    }
   ],
   "source": [
    "#getting the total amount of background checks every year\n",
    "year_checks = gun_df.groupby(gun_df.month.dt.year)['totals'].sum().to_dict()\n",
    "\n",
    "#seeing a description for the background checks data\n",
    "gun_df.groupby(gun_df.month.dt.year)['totals'].sum().describe()"
   ]
  },
  {
   "cell_type": "code",
   "execution_count": 66,
   "metadata": {},
   "outputs": [
    {
     "data": {
      "image/png": "[encoded data removed]",
      "text/plain": [
       "<Figure size 640x480 with 1 Axes>"
      ]
     },
     "metadata": {},
     "output_type": "display_data"
    }
   ],
   "source": [
    "#visualising in a barplot\n",
    "years = list(year_checks.keys())\n",
    "totals = list(year_checks.values())\n",
    "clr = 'maroon'\n",
    "xl = 'Years'\n",
    "yl = 'Total Background checks in Million'\n",
    "title = 'Background checks over Time'\n",
    "bar(years, totals, clr, xl, yl, title )"
   ]
  },
  {
   "cell_type": "markdown",
   "metadata": {},
   "source": [
    "as we can see from the graph above that the background checks have grown exponentially over the years, strting with 8.9e+05 at 1998 to reach a maximum value in 2016 with 2.7e+07."
   ]
  },
  {
   "cell_type": "markdown",
   "metadata": {},
   "source": [
    "### The State with the most background checks\n",
    ">We're going to use ratio to account for the number of people in a state"
   ]
  },
  {
   "cell_type": "code",
   "execution_count": 67,
   "metadata": {},
   "outputs": [
    {
     "data": {
      "text/plain": [
       "array(['Alabama', 'Alaska', 'Arizona', 'Arkansas', 'California'],\n",
       "      dtype=object)"
      ]
     },
     "execution_count": 67,
     "metadata": {},
     "output_type": "execute_result"
    }
   ],
   "source": [
    "#getting a list of states\n",
    "states = df.state.unique()\n",
    "states[:5]"
   ]
  },
  {
   "cell_type": "code",
   "execution_count": 68,
   "metadata": {},
   "outputs": [],
   "source": [
    "#getting the total of background checks for 2016 for each state\n",
    "state_16 = df.query( 'year == 2016' ).groupby('state')\n",
    "#getting the totals and saving them into a dict\n",
    "state_totals16 = state_16['totals'].sum().to_dict()\n",
    "\n",
    "# getting the values of the dict  and saving them into a list\n",
    "state_totals = list(state_totals16.values())"
   ]
  },
  {
   "cell_type": "code",
   "execution_count": 69,
   "metadata": {},
   "outputs": [],
   "source": [
    "#getting the population and saving it to a dict\n",
    "population = df.query('year == 2016')['population_16'].to_dict()\n",
    "population = list(population.values())\n",
    "checks_ratio = [i / j for i,j in zip(state_totals, population)]\n"
   ]
  },
  {
   "cell_type": "code",
   "execution_count": 70,
   "metadata": {},
   "outputs": [
    {
     "data": {
      "image/png": "[encoded data removed]",
      "text/plain": [
       "<Figure size 1600x900 with 1 Axes>"
      ]
     },
     "metadata": {},
     "output_type": "display_data"
    }
   ],
   "source": [
    "#getting a list of states to use in the diagram\n",
    "states = list(state_totals16.keys())\n",
    "#visualising\n",
    "fig = plt.figure(figsize =(16, 9))\n",
    "clr = 'maroon'\n",
    "xl = 'States'\n",
    "yl = 'Ratio'\n",
    "ti = 'Background checks over Population'\n",
    "bar(states, checks_ratio, clr, xl, yl, ti)\n",
    "plt.xticks(rotation= 90);"
   ]
  },
  {
   "cell_type": "markdown",
   "metadata": {},
   "source": [
    "Turns out that Kentucky and Illinois have the highest background checks in respect to thier population."
   ]
  },
  {
   "cell_type": "markdown",
   "metadata": {},
   "source": [
    "## The relation between  eductaion and background checks"
   ]
  },
  {
   "cell_type": "code",
   "execution_count": 71,
   "metadata": {},
   "outputs": [],
   "source": [
    "#here we're getting the number of background checks for each state in the year 2015\n",
    "checks_15 = df.query('year == 2015').groupby('state')['totals'].sum().tolist()"
   ]
  },
  {
   "cell_type": "code",
   "execution_count": 72,
   "metadata": {},
   "outputs": [],
   "source": [
    "#getting the education percentage for each state and saving it to a list\n",
    "education = df.query('year == 2015').groupby('state')['higher_edu_15'].unique().tolist()\n"
   ]
  },
  {
   "cell_type": "code",
   "execution_count": 73,
   "metadata": {},
   "outputs": [
    {
     "data": {
      "image/png": "[encoded data removed]",
      "text/plain": [
       "<Figure size 640x480 with 1 Axes>"
      ]
     },
     "metadata": {},
     "output_type": "display_data"
    }
   ],
   "source": [
    "#ploting the relation\n",
    "plt.scatter(education, checks_15, c=\"maroon\");\n",
    "plt.xlabel('Higher Education percent')\n",
    "plt.ylabel('Background checks totals')\n",
    "plt.title('Relation between education and Background checks');"
   ]
  },
  {
   "cell_type": "markdown",
   "metadata": {},
   "source": [
    "this scatter plot indecates that there is no relation between higher education and background checks  "
   ]
  },
  {
   "cell_type": "markdown",
   "metadata": {},
   "source": [
    "## The Relation between per income capita and background checks"
   ]
  },
  {
   "cell_type": "code",
   "execution_count": 74,
   "metadata": {},
   "outputs": [
    {
     "data": {
      "image/png": "[encoded data removed]",
      "text/plain": [
       "<Figure size 640x480 with 1 Axes>"
      ]
     },
     "metadata": {},
     "output_type": "display_data"
    }
   ],
   "source": [
    "#getting the income per capita for each state and saving it to a list\n",
    "income = df.query('year == 2015').groupby('state')['income_15'].unique().tolist()\n",
    "\n",
    "#ploting the relation\n",
    "plt.scatter(income, checks_15, c=\"maroon\");\n",
    "plt.xlabel('per capita income')\n",
    "plt.ylabel('Background checks totals')\n",
    "plt.title('Relation between income and Background checks');"
   ]
  },
  {
   "cell_type": "markdown",
   "metadata": {},
   "source": [
    "seems like this scatter plot also indecates that there is no relation between income and background checks  "
   ]
  },
  {
   "cell_type": "markdown",
   "metadata": {},
   "source": [
    "## The Relation between poverty and background checks"
   ]
  },
  {
   "cell_type": "code",
   "execution_count": 75,
   "metadata": {},
   "outputs": [
    {
     "data": {
      "image/png": "[encoded data removed]",
      "text/plain": [
       "<Figure size 640x480 with 1 Axes>"
      ]
     },
     "metadata": {},
     "output_type": "display_data"
    }
   ],
   "source": [
    "#getting the poverty percentage for each state and saving it to a list\n",
    "poverty = df.query('year == 2015').groupby('state')['poverty'].unique().tolist()\n",
    "\n",
    "#ploting the relation\n",
    "plt.scatter(poverty, checks_15, c=\"maroon\");\n",
    "plt.xlabel('poverty percent')\n",
    "plt.ylabel('Background checks totals')\n",
    "plt.title('Relation between poverty and Background checks');"
   ]
  },
  {
   "cell_type": "markdown",
   "metadata": {},
   "source": [
    "once again this scatter plot shows that there is no relation between poverty percentage in a state and the number of background checks in it."
   ]
  },
  {
   "cell_type": "markdown",
   "metadata": {},
   "source": [
    "<a id='conclusions'></a>\n",
    "## Conclusions\n",
    "### limitations \n",
    ">The census data was very limited to couple years namely 2015 and 2016, so we can't compare the gun data from other years.\n",
    ">\n",
    ">The gun data did not contain the actuall number of guns sold which would've been much more useful, and propably would've had a stronger reltaion ships with the other variables.\n",
    "#### The change in background checks over time\n",
    ">We saw that there was a significant increase in background checks over the years\n",
    ">\n",
    "#### The State with the most background\n",
    "> We found that Kentucky and Illinois had the biggest ratio for background checks over population\n",
    ">\n",
    "#### The relation between eductaion and background checks \n",
    ">there was a no strong corelation between education percentage and background checks\n",
    ">\n",
    "#### The Relation between per income capita and background checks\n",
    ">there was a no strong corelation between income and background checks\n",
    ">\n",
    "#### The Relation between poverty and background checks\n",
    ">there was no corelation between poverty and background checks\n"
   ]
  }
 ],
 "metadata": {
  "kernelspec": {
   "display_name": "Python 3 (ipykernel)",
   "language": "python",
   "name": "python3"
  },
  "language_info": {
   "codemirror_mode": {
    "name": "ipython",
    "version": 3
   },
   "file_extension": ".py",
   "mimetype": "text/x-python",
   "name": "python",
   "nbconvert_exporter": "python",
   "pygments_lexer": "ipython3",
   "version": "3.9.13"
  }
 },
 "nbformat": 4,
 "nbformat_minor": 2
}
